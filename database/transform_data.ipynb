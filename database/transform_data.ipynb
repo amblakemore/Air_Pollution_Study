{
 "cells": [
  {
   "cell_type": "code",
   "execution_count": 1,
   "metadata": {},
   "outputs": [],
   "source": [
    "import pandas as pd\n",
    "from sqlalchemy import create_engine"
   ]
  },
  {
   "cell_type": "markdown",
   "metadata": {},
   "source": [
    "source: https://aqs.epa.gov/aqsweb/airdata/download_files.html#AQI"
   ]
  },
  {
   "cell_type": "markdown",
   "metadata": {},
   "source": [
    "# Extract"
   ]
  },
  {
   "cell_type": "markdown",
   "metadata": {},
   "source": [
    "#### Overall AQI by County"
   ]
  },
  {
   "cell_type": "code",
   "execution_count": 2,
   "metadata": {},
   "outputs": [],
   "source": [
    "aqi_1995_df = pd.read_csv('../../resources/annual_aqi_by_county/annual_aqi_by_county_1995.csv')\n",
    "aqi_2000_df = pd.read_csv('../../resources/annual_aqi_by_county/annual_aqi_by_county_2000.csv')\n",
    "aqi_2005_df = pd.read_csv('../../resources/annual_aqi_by_county/annual_aqi_by_county_2005.csv')\n",
    "aqi_2010_df = pd.read_csv('../../resources/annual_aqi_by_county/annual_aqi_by_county_2010.csv')\n",
    "aqi_2015_df = pd.read_csv('../../resources/annual_aqi_by_county/annual_aqi_by_county_2015.csv')\n",
    "aqi_2020_df = pd.read_csv('../../resources/annual_aqi_by_county/annual_aqi_by_county_2020.csv')"
   ]
  },
  {
   "cell_type": "markdown",
   "metadata": {},
   "source": [
    "#### AQI by County (measurements)"
   ]
  },
  {
   "cell_type": "code",
   "execution_count": 3,
   "metadata": {},
   "outputs": [
    {
     "name": "stderr",
     "output_type": "stream",
     "text": [
      "C:\\Users\\ucibc\\anaconda3\\envs\\PythonData\\lib\\site-packages\\IPython\\core\\interactiveshell.py:3072: DtypeWarning: Columns (2) have mixed types.Specify dtype option on import or set low_memory=False.\n",
      "  interactivity=interactivity, compiler=compiler, result=result)\n"
     ]
    }
   ],
   "source": [
    "aqi_1995ms_df = pd.read_csv('../../resources/daily_aqi_by_county/daily_aqi_by_county_1995.csv')\n",
    "aqi_2000ms_df = pd.read_csv('../../resources/daily_aqi_by_county/daily_aqi_by_county_2000.csv')\n",
    "aqi_2005ms_df = pd.read_csv('../../resources/daily_aqi_by_county/daily_aqi_by_county_2005.csv')\n",
    "aqi_2010ms_df = pd.read_csv('../../resources/daily_aqi_by_county/daily_aqi_by_county_2010.csv')\n",
    "aqi_2015ms_df = pd.read_csv('../../resources/daily_aqi_by_county/daily_aqi_by_county_2015.csv')\n",
    "aqi_2020ms_df = pd.read_csv('../../resources/daily_aqi_by_county/daily_aqi_by_county_2020.csv')"
   ]
  },
  {
   "cell_type": "markdown",
   "metadata": {},
   "source": [
    "# Transform Data"
   ]
  },
  {
   "cell_type": "markdown",
   "metadata": {},
   "source": [
    "## Drop empty rows"
   ]
  },
  {
   "cell_type": "code",
   "execution_count": 4,
   "metadata": {},
   "outputs": [],
   "source": [
    "# Drop empty rows\n",
    "aqi_1995_df.dropna(how='any', inplace=True)\n",
    "aqi_2000_df.dropna(how='any', inplace=True)\n",
    "aqi_2005_df.dropna(how='any', inplace=True)\n",
    "aqi_2010_df.dropna(how='any', inplace=True)\n",
    "aqi_2015_df.dropna(how='any', inplace=True)\n",
    "aqi_2020_df.dropna(how='any', inplace=True)\n",
    "\n",
    "aqi_1995ms_df.dropna(how='any', inplace=True)\n",
    "aqi_2000ms_df.dropna(how='any', inplace=True)\n",
    "aqi_2005ms_df.dropna(how='any', inplace=True)\n",
    "aqi_2010ms_df.dropna(how='any', inplace=True)\n",
    "aqi_2015ms_df.dropna(how='any', inplace=True)\n",
    "aqi_2020ms_df.dropna(how='any', inplace=True)"
   ]
  },
  {
   "cell_type": "markdown",
   "metadata": {},
   "source": [
    "## drop columns"
   ]
  },
  {
   "cell_type": "code",
   "execution_count": 5,
   "metadata": {},
   "outputs": [
    {
     "data": {
      "text/plain": [
       "Index(['State', 'County', 'Year', 'Days with AQI', 'Good Days',\n",
       "       'Moderate Days', 'Unhealthy for Sensitive Groups Days',\n",
       "       'Unhealthy Days', 'Very Unhealthy Days', 'Hazardous Days', 'Max AQI',\n",
       "       '90th Percentile AQI', 'Median AQI', 'Days CO', 'Days NO2',\n",
       "       'Days Ozone', 'Days SO2', 'Days PM2.5', 'Days PM10'],\n",
       "      dtype='object')"
      ]
     },
     "execution_count": 5,
     "metadata": {},
     "output_type": "execute_result"
    }
   ],
   "source": [
    "aqi_1995_df.columns"
   ]
  },
  {
   "cell_type": "code",
   "execution_count": 6,
   "metadata": {},
   "outputs": [
    {
     "data": {
      "text/plain": [
       "Index(['State Name', 'county Name', 'State Code', 'County Code', 'Date', 'AQI',\n",
       "       'Category', 'Defining Parameter', 'Defining Site',\n",
       "       'Number of Sites Reporting'],\n",
       "      dtype='object')"
      ]
     },
     "execution_count": 6,
     "metadata": {},
     "output_type": "execute_result"
    }
   ],
   "source": [
    "aqi_1995ms_df.columns"
   ]
  },
  {
   "cell_type": "code",
   "execution_count": 7,
   "metadata": {},
   "outputs": [],
   "source": [
    "new_aqi_1995_df = aqi_1995_df[['State','County','Year','Max AQI']]\n",
    "new_aqi_2000_df = aqi_2000_df[['State','County','Year','Max AQI']]\n",
    "new_aqi_2005_df = aqi_2005_df[['State','County','Year','Max AQI']]\n",
    "new_aqi_2010_df = aqi_2010_df[['State','County','Year','Max AQI']]\n",
    "new_aqi_2015_df = aqi_2015_df[['State','County','Year','Max AQI']]\n",
    "new_aqi_2020_df = aqi_2020_df[['State','County','Year','Max AQI']]"
   ]
  },
  {
   "cell_type": "code",
   "execution_count": 8,
   "metadata": {},
   "outputs": [],
   "source": [
    "new_aqi_1995ms_df = aqi_1995ms_df[['State Name', 'county Name', 'Date', 'AQI', 'Defining Parameter',]]\n",
    "new_aqi_2000ms_df = aqi_2000ms_df[['State Name', 'county Name', 'Date', 'AQI', 'Defining Parameter',]]\n",
    "new_aqi_2005ms_df = aqi_2005ms_df[['State Name', 'county Name', 'Date', 'AQI', 'Defining Parameter',]]\n",
    "new_aqi_2010ms_df = aqi_2010ms_df[['State Name', 'county Name', 'Date', 'AQI', 'Defining Parameter',]]\n",
    "new_aqi_2015ms_df = aqi_2015ms_df[['State Name', 'county Name', 'Date', 'AQI', 'Defining Parameter',]]\n",
    "new_aqi_2020ms_df = aqi_2020ms_df[['State Name', 'county Name', 'Date', 'AQI', 'Defining Parameter',]]"
   ]
  },
  {
   "cell_type": "code",
   "execution_count": 9,
   "metadata": {},
   "outputs": [
    {
     "data": {
      "text/html": [
       "<div>\n",
       "<style scoped>\n",
       "    .dataframe tbody tr th:only-of-type {\n",
       "        vertical-align: middle;\n",
       "    }\n",
       "\n",
       "    .dataframe tbody tr th {\n",
       "        vertical-align: top;\n",
       "    }\n",
       "\n",
       "    .dataframe thead th {\n",
       "        text-align: right;\n",
       "    }\n",
       "</style>\n",
       "<table border=\"1\" class=\"dataframe\">\n",
       "  <thead>\n",
       "    <tr style=\"text-align: right;\">\n",
       "      <th></th>\n",
       "      <th>State Name</th>\n",
       "      <th>county Name</th>\n",
       "      <th>Date</th>\n",
       "      <th>AQI</th>\n",
       "      <th>Defining Parameter</th>\n",
       "    </tr>\n",
       "  </thead>\n",
       "  <tbody>\n",
       "    <tr>\n",
       "      <th>0</th>\n",
       "      <td>Alabama</td>\n",
       "      <td>Baldwin</td>\n",
       "      <td>2020-01-01</td>\n",
       "      <td>48</td>\n",
       "      <td>PM2.5</td>\n",
       "    </tr>\n",
       "    <tr>\n",
       "      <th>1</th>\n",
       "      <td>Alabama</td>\n",
       "      <td>Baldwin</td>\n",
       "      <td>2020-01-04</td>\n",
       "      <td>13</td>\n",
       "      <td>PM2.5</td>\n",
       "    </tr>\n",
       "    <tr>\n",
       "      <th>2</th>\n",
       "      <td>Alabama</td>\n",
       "      <td>Baldwin</td>\n",
       "      <td>2020-01-07</td>\n",
       "      <td>14</td>\n",
       "      <td>PM2.5</td>\n",
       "    </tr>\n",
       "    <tr>\n",
       "      <th>3</th>\n",
       "      <td>Alabama</td>\n",
       "      <td>Baldwin</td>\n",
       "      <td>2020-01-10</td>\n",
       "      <td>39</td>\n",
       "      <td>PM2.5</td>\n",
       "    </tr>\n",
       "    <tr>\n",
       "      <th>4</th>\n",
       "      <td>Alabama</td>\n",
       "      <td>Baldwin</td>\n",
       "      <td>2020-01-13</td>\n",
       "      <td>29</td>\n",
       "      <td>PM2.5</td>\n",
       "    </tr>\n",
       "  </tbody>\n",
       "</table>\n",
       "</div>"
      ],
      "text/plain": [
       "  State Name county Name        Date  AQI Defining Parameter\n",
       "0    Alabama     Baldwin  2020-01-01   48              PM2.5\n",
       "1    Alabama     Baldwin  2020-01-04   13              PM2.5\n",
       "2    Alabama     Baldwin  2020-01-07   14              PM2.5\n",
       "3    Alabama     Baldwin  2020-01-10   39              PM2.5\n",
       "4    Alabama     Baldwin  2020-01-13   29              PM2.5"
      ]
     },
     "execution_count": 9,
     "metadata": {},
     "output_type": "execute_result"
    }
   ],
   "source": [
    "new_aqi_2020ms_df.head()"
   ]
  },
  {
   "cell_type": "markdown",
   "metadata": {},
   "source": [
    "## Rename columns"
   ]
  },
  {
   "cell_type": "code",
   "execution_count": 10,
   "metadata": {},
   "outputs": [],
   "source": [
    "new_aqi_1995_df = new_aqi_1995_df.rename(columns={'State':'state_name',\n",
    "                                                 'County':'county_name',\n",
    "                                                 'Year':'years',\n",
    "                                                 'Max AQI':'aqi'})\n",
    "\n",
    "new_aqi_2000_df = new_aqi_2000_df.rename(columns={'State':'state_name',\n",
    "                                                 'County':'county_name',\n",
    "                                                 'Year':'years',\n",
    "                                                 'Max AQI':'aqi'})\n",
    "\n",
    "new_aqi_2005_df = new_aqi_2005_df.rename(columns={'State':'state_name',\n",
    "                                                 'County':'county_name',\n",
    "                                                 'Year':'years',\n",
    "                                                 'Max AQI':'aqi'})\n",
    "\n",
    "new_aqi_2010_df = new_aqi_2010_df.rename(columns={'State':'state_name',\n",
    "                                                 'County':'county_name',\n",
    "                                                 'Year':'years',\n",
    "                                                 'Max AQI':'aqi'})\n",
    "\n",
    "new_aqi_2015_df = new_aqi_2015_df.rename(columns={'State':'state_name',\n",
    "                                                 'County':'county_name',\n",
    "                                                 'Year':'years',\n",
    "                                                 'Max AQI':'aqi'})\n",
    "\n",
    "new_aqi_2020_df = new_aqi_2020_df.rename(columns={'State':'state_name',\n",
    "                                                 'County':'county_name',\n",
    "                                                 'Year':'years',\n",
    "                                                 'Max AQI':'aqi'})"
   ]
  },
  {
   "cell_type": "code",
   "execution_count": 11,
   "metadata": {},
   "outputs": [],
   "source": [
    "new_aqi_1995ms_df = new_aqi_1995ms_df.rename(columns={'State Name':'state_name', \n",
    "                                                      'county Name':'county_name',\n",
    "                                                      'Date':'dates',\n",
    "                                                      'AQI':'aqi',\n",
    "                                                      'Defining Parameter':'defining_parameter'})\n",
    "\n",
    "new_aqi_2000ms_df = new_aqi_2000ms_df.rename(columns={'State Name':'state_name', \n",
    "                                                      'county Name':'county_name', \n",
    "                                                      'Date':'dates', \n",
    "                                                      'AQI':'aqi', \n",
    "                                                      'Defining Parameter':'defining_parameter'})\n",
    "\n",
    "new_aqi_2005ms_df = new_aqi_2005ms_df.rename(columns={'State Name':'state_name', \n",
    "                                                      'county Name':'county_name', \n",
    "                                                      'Date':'dates', \n",
    "                                                      'AQI':'aqi', \n",
    "                                                      'Defining Parameter':'defining_parameter'})\n",
    "\n",
    "new_aqi_2010ms_df = new_aqi_2010ms_df.rename(columns={'State Name':'state_name', \n",
    "                                                      'county Name':'county_name', \n",
    "                                                      'Date':'dates', \n",
    "                                                      'AQI':'aqi', \n",
    "                                                      'Defining Parameter':'defining_parameter'})\n",
    "\n",
    "new_aqi_2015ms_df = new_aqi_2015ms_df.rename(columns={'State Name':'state_name', \n",
    "                                                      'county Name':'county_name', \n",
    "                                                      'Date':'dates', \n",
    "                                                      'AQI':'aqi', \n",
    "                                                      'Defining Parameter':'defining_parameter'})\n",
    "\n",
    "new_aqi_2020ms_df = new_aqi_2020ms_df.rename(columns={'State Name':'state_name', \n",
    "                                                      'county Name':'county_name', \n",
    "                                                      'Date':'dates', \n",
    "                                                      'AQI':'aqi',\n",
    "                                                      'Defining Parameter':'defining_parameter'})"
   ]
  },
  {
   "cell_type": "code",
   "execution_count": 12,
   "metadata": {},
   "outputs": [
    {
     "data": {
      "text/html": [
       "<div>\n",
       "<style scoped>\n",
       "    .dataframe tbody tr th:only-of-type {\n",
       "        vertical-align: middle;\n",
       "    }\n",
       "\n",
       "    .dataframe tbody tr th {\n",
       "        vertical-align: top;\n",
       "    }\n",
       "\n",
       "    .dataframe thead th {\n",
       "        text-align: right;\n",
       "    }\n",
       "</style>\n",
       "<table border=\"1\" class=\"dataframe\">\n",
       "  <thead>\n",
       "    <tr style=\"text-align: right;\">\n",
       "      <th></th>\n",
       "      <th>state_name</th>\n",
       "      <th>county_name</th>\n",
       "      <th>years</th>\n",
       "      <th>aqi</th>\n",
       "    </tr>\n",
       "  </thead>\n",
       "  <tbody>\n",
       "    <tr>\n",
       "      <th>0</th>\n",
       "      <td>Alabama</td>\n",
       "      <td>Baldwin</td>\n",
       "      <td>2020</td>\n",
       "      <td>74</td>\n",
       "    </tr>\n",
       "    <tr>\n",
       "      <th>1</th>\n",
       "      <td>Alabama</td>\n",
       "      <td>Clay</td>\n",
       "      <td>2020</td>\n",
       "      <td>86</td>\n",
       "    </tr>\n",
       "    <tr>\n",
       "      <th>2</th>\n",
       "      <td>Alabama</td>\n",
       "      <td>DeKalb</td>\n",
       "      <td>2020</td>\n",
       "      <td>90</td>\n",
       "    </tr>\n",
       "    <tr>\n",
       "      <th>3</th>\n",
       "      <td>Alabama</td>\n",
       "      <td>Elmore</td>\n",
       "      <td>2020</td>\n",
       "      <td>47</td>\n",
       "    </tr>\n",
       "    <tr>\n",
       "      <th>4</th>\n",
       "      <td>Alabama</td>\n",
       "      <td>Etowah</td>\n",
       "      <td>2020</td>\n",
       "      <td>92</td>\n",
       "    </tr>\n",
       "  </tbody>\n",
       "</table>\n",
       "</div>"
      ],
      "text/plain": [
       "  state_name county_name  years  aqi\n",
       "0    Alabama     Baldwin   2020   74\n",
       "1    Alabama        Clay   2020   86\n",
       "2    Alabama      DeKalb   2020   90\n",
       "3    Alabama      Elmore   2020   47\n",
       "4    Alabama      Etowah   2020   92"
      ]
     },
     "execution_count": 12,
     "metadata": {},
     "output_type": "execute_result"
    }
   ],
   "source": [
    "new_aqi_2020_df.head()"
   ]
  },
  {
   "cell_type": "code",
   "execution_count": 13,
   "metadata": {},
   "outputs": [
    {
     "data": {
      "text/html": [
       "<div>\n",
       "<style scoped>\n",
       "    .dataframe tbody tr th:only-of-type {\n",
       "        vertical-align: middle;\n",
       "    }\n",
       "\n",
       "    .dataframe tbody tr th {\n",
       "        vertical-align: top;\n",
       "    }\n",
       "\n",
       "    .dataframe thead th {\n",
       "        text-align: right;\n",
       "    }\n",
       "</style>\n",
       "<table border=\"1\" class=\"dataframe\">\n",
       "  <thead>\n",
       "    <tr style=\"text-align: right;\">\n",
       "      <th></th>\n",
       "      <th>state_name</th>\n",
       "      <th>county_name</th>\n",
       "      <th>dates</th>\n",
       "      <th>aqi</th>\n",
       "      <th>defining_parameter</th>\n",
       "    </tr>\n",
       "  </thead>\n",
       "  <tbody>\n",
       "    <tr>\n",
       "      <th>0</th>\n",
       "      <td>Alabama</td>\n",
       "      <td>Baldwin</td>\n",
       "      <td>2020-01-01</td>\n",
       "      <td>48</td>\n",
       "      <td>PM2.5</td>\n",
       "    </tr>\n",
       "    <tr>\n",
       "      <th>1</th>\n",
       "      <td>Alabama</td>\n",
       "      <td>Baldwin</td>\n",
       "      <td>2020-01-04</td>\n",
       "      <td>13</td>\n",
       "      <td>PM2.5</td>\n",
       "    </tr>\n",
       "    <tr>\n",
       "      <th>2</th>\n",
       "      <td>Alabama</td>\n",
       "      <td>Baldwin</td>\n",
       "      <td>2020-01-07</td>\n",
       "      <td>14</td>\n",
       "      <td>PM2.5</td>\n",
       "    </tr>\n",
       "    <tr>\n",
       "      <th>3</th>\n",
       "      <td>Alabama</td>\n",
       "      <td>Baldwin</td>\n",
       "      <td>2020-01-10</td>\n",
       "      <td>39</td>\n",
       "      <td>PM2.5</td>\n",
       "    </tr>\n",
       "    <tr>\n",
       "      <th>4</th>\n",
       "      <td>Alabama</td>\n",
       "      <td>Baldwin</td>\n",
       "      <td>2020-01-13</td>\n",
       "      <td>29</td>\n",
       "      <td>PM2.5</td>\n",
       "    </tr>\n",
       "  </tbody>\n",
       "</table>\n",
       "</div>"
      ],
      "text/plain": [
       "  state_name county_name       dates  aqi defining_parameter\n",
       "0    Alabama     Baldwin  2020-01-01   48              PM2.5\n",
       "1    Alabama     Baldwin  2020-01-04   13              PM2.5\n",
       "2    Alabama     Baldwin  2020-01-07   14              PM2.5\n",
       "3    Alabama     Baldwin  2020-01-10   39              PM2.5\n",
       "4    Alabama     Baldwin  2020-01-13   29              PM2.5"
      ]
     },
     "execution_count": 13,
     "metadata": {},
     "output_type": "execute_result"
    }
   ],
   "source": [
    "new_aqi_2020ms_df.head()"
   ]
  },
  {
   "cell_type": "code",
   "execution_count": 14,
   "metadata": {},
   "outputs": [],
   "source": [
    "new_aqi_1995_df.set_index('state_name', inplace=True)\n",
    "new_aqi_2000_df.set_index('state_name', inplace=True)\n",
    "new_aqi_2005_df.set_index('state_name', inplace=True)\n",
    "new_aqi_2010_df.set_index('state_name', inplace=True)\n",
    "new_aqi_2015_df.set_index('state_name', inplace=True)\n",
    "new_aqi_2020_df.set_index('state_name', inplace=True)"
   ]
  },
  {
   "cell_type": "code",
   "execution_count": 15,
   "metadata": {},
   "outputs": [
    {
     "data": {
      "text/html": [
       "<div>\n",
       "<style scoped>\n",
       "    .dataframe tbody tr th:only-of-type {\n",
       "        vertical-align: middle;\n",
       "    }\n",
       "\n",
       "    .dataframe tbody tr th {\n",
       "        vertical-align: top;\n",
       "    }\n",
       "\n",
       "    .dataframe thead th {\n",
       "        text-align: right;\n",
       "    }\n",
       "</style>\n",
       "<table border=\"1\" class=\"dataframe\">\n",
       "  <thead>\n",
       "    <tr style=\"text-align: right;\">\n",
       "      <th></th>\n",
       "      <th>county_name</th>\n",
       "      <th>years</th>\n",
       "      <th>aqi</th>\n",
       "    </tr>\n",
       "    <tr>\n",
       "      <th>state_name</th>\n",
       "      <th></th>\n",
       "      <th></th>\n",
       "      <th></th>\n",
       "    </tr>\n",
       "  </thead>\n",
       "  <tbody>\n",
       "    <tr>\n",
       "      <th>Alabama</th>\n",
       "      <td>Baldwin</td>\n",
       "      <td>2020</td>\n",
       "      <td>74</td>\n",
       "    </tr>\n",
       "    <tr>\n",
       "      <th>Alabama</th>\n",
       "      <td>Clay</td>\n",
       "      <td>2020</td>\n",
       "      <td>86</td>\n",
       "    </tr>\n",
       "    <tr>\n",
       "      <th>Alabama</th>\n",
       "      <td>DeKalb</td>\n",
       "      <td>2020</td>\n",
       "      <td>90</td>\n",
       "    </tr>\n",
       "    <tr>\n",
       "      <th>Alabama</th>\n",
       "      <td>Elmore</td>\n",
       "      <td>2020</td>\n",
       "      <td>47</td>\n",
       "    </tr>\n",
       "    <tr>\n",
       "      <th>Alabama</th>\n",
       "      <td>Etowah</td>\n",
       "      <td>2020</td>\n",
       "      <td>92</td>\n",
       "    </tr>\n",
       "  </tbody>\n",
       "</table>\n",
       "</div>"
      ],
      "text/plain": [
       "           county_name  years  aqi\n",
       "state_name                        \n",
       "Alabama        Baldwin   2020   74\n",
       "Alabama           Clay   2020   86\n",
       "Alabama         DeKalb   2020   90\n",
       "Alabama         Elmore   2020   47\n",
       "Alabama         Etowah   2020   92"
      ]
     },
     "execution_count": 15,
     "metadata": {},
     "output_type": "execute_result"
    }
   ],
   "source": [
    "new_aqi_2020_df.head()"
   ]
  },
  {
   "cell_type": "code",
   "execution_count": 16,
   "metadata": {},
   "outputs": [],
   "source": [
    "new_aqi_1995ms_df.set_index('state_name', inplace=True)\n",
    "new_aqi_2000ms_df.set_index('state_name', inplace=True)\n",
    "new_aqi_2005ms_df.set_index('state_name', inplace=True)\n",
    "new_aqi_2010ms_df.set_index('state_name', inplace=True)\n",
    "new_aqi_2015ms_df.set_index('state_name', inplace=True)\n",
    "new_aqi_2020ms_df.set_index('state_name', inplace=True)"
   ]
  },
  {
   "cell_type": "code",
   "execution_count": 17,
   "metadata": {},
   "outputs": [
    {
     "data": {
      "text/html": [
       "<div>\n",
       "<style scoped>\n",
       "    .dataframe tbody tr th:only-of-type {\n",
       "        vertical-align: middle;\n",
       "    }\n",
       "\n",
       "    .dataframe tbody tr th {\n",
       "        vertical-align: top;\n",
       "    }\n",
       "\n",
       "    .dataframe thead th {\n",
       "        text-align: right;\n",
       "    }\n",
       "</style>\n",
       "<table border=\"1\" class=\"dataframe\">\n",
       "  <thead>\n",
       "    <tr style=\"text-align: right;\">\n",
       "      <th></th>\n",
       "      <th>county_name</th>\n",
       "      <th>dates</th>\n",
       "      <th>aqi</th>\n",
       "      <th>defining_parameter</th>\n",
       "    </tr>\n",
       "    <tr>\n",
       "      <th>state_name</th>\n",
       "      <th></th>\n",
       "      <th></th>\n",
       "      <th></th>\n",
       "      <th></th>\n",
       "    </tr>\n",
       "  </thead>\n",
       "  <tbody>\n",
       "    <tr>\n",
       "      <th>Alabama</th>\n",
       "      <td>Baldwin</td>\n",
       "      <td>2020-01-01</td>\n",
       "      <td>48</td>\n",
       "      <td>PM2.5</td>\n",
       "    </tr>\n",
       "    <tr>\n",
       "      <th>Alabama</th>\n",
       "      <td>Baldwin</td>\n",
       "      <td>2020-01-04</td>\n",
       "      <td>13</td>\n",
       "      <td>PM2.5</td>\n",
       "    </tr>\n",
       "    <tr>\n",
       "      <th>Alabama</th>\n",
       "      <td>Baldwin</td>\n",
       "      <td>2020-01-07</td>\n",
       "      <td>14</td>\n",
       "      <td>PM2.5</td>\n",
       "    </tr>\n",
       "    <tr>\n",
       "      <th>Alabama</th>\n",
       "      <td>Baldwin</td>\n",
       "      <td>2020-01-10</td>\n",
       "      <td>39</td>\n",
       "      <td>PM2.5</td>\n",
       "    </tr>\n",
       "    <tr>\n",
       "      <th>Alabama</th>\n",
       "      <td>Baldwin</td>\n",
       "      <td>2020-01-13</td>\n",
       "      <td>29</td>\n",
       "      <td>PM2.5</td>\n",
       "    </tr>\n",
       "  </tbody>\n",
       "</table>\n",
       "</div>"
      ],
      "text/plain": [
       "           county_name       dates  aqi defining_parameter\n",
       "state_name                                                \n",
       "Alabama        Baldwin  2020-01-01   48              PM2.5\n",
       "Alabama        Baldwin  2020-01-04   13              PM2.5\n",
       "Alabama        Baldwin  2020-01-07   14              PM2.5\n",
       "Alabama        Baldwin  2020-01-10   39              PM2.5\n",
       "Alabama        Baldwin  2020-01-13   29              PM2.5"
      ]
     },
     "execution_count": 17,
     "metadata": {},
     "output_type": "execute_result"
    }
   ],
   "source": [
    "new_aqi_2020ms_df.head()"
   ]
  },
  {
   "cell_type": "code",
   "execution_count": 18,
   "metadata": {},
   "outputs": [
    {
     "data": {
      "text/plain": [
       "county_name    object\n",
       "years           int64\n",
       "aqi             int64\n",
       "dtype: object"
      ]
     },
     "execution_count": 18,
     "metadata": {},
     "output_type": "execute_result"
    }
   ],
   "source": [
    "new_aqi_2020_df.dtypes"
   ]
  },
  {
   "cell_type": "code",
   "execution_count": 19,
   "metadata": {},
   "outputs": [
    {
     "data": {
      "text/plain": [
       "county_name           object\n",
       "dates                 object\n",
       "aqi                    int64\n",
       "defining_parameter    object\n",
       "dtype: object"
      ]
     },
     "execution_count": 19,
     "metadata": {},
     "output_type": "execute_result"
    }
   ],
   "source": [
    "new_aqi_2020ms_df.dtypes"
   ]
  },
  {
   "cell_type": "code",
   "execution_count": 28,
   "metadata": {},
   "outputs": [],
   "source": [
    "## CHANGE \"YOURPASSWORD\" TO YOUR PASSWORD"
   ]
  },
  {
   "cell_type": "code",
   "execution_count": 20,
   "metadata": {},
   "outputs": [],
   "source": [
    "rds_connection_string = \"postgres:YOURPASSWORD@localhost:5433/air_pollution_db\"\n",
    "engine = create_engine(f'postgresql://{rds_connection_string}')"
   ]
  },
  {
   "cell_type": "code",
   "execution_count": 21,
   "metadata": {},
   "outputs": [
    {
     "data": {
      "text/plain": [
       "['overall_aqi']"
      ]
     },
     "execution_count": 21,
     "metadata": {},
     "output_type": "execute_result"
    }
   ],
   "source": [
    "engine.table_names()"
   ]
  },
  {
   "cell_type": "markdown",
   "metadata": {},
   "source": [
    "### Import data to pgA "
   ]
  },
  {
   "cell_type": "markdown",
   "metadata": {},
   "source": [
    "### 1"
   ]
  },
  {
   "cell_type": "code",
   "execution_count": 22,
   "metadata": {},
   "outputs": [],
   "source": [
    "new_aqi_1995_df.to_sql(name = 'overall_aqi',\n",
    "                       con = engine,\n",
    "                       if_exists = 'append',\n",
    "                       index = True)"
   ]
  },
  {
   "cell_type": "code",
   "execution_count": 23,
   "metadata": {},
   "outputs": [],
   "source": [
    "new_aqi_2000_df.to_sql(name = 'overall_aqi',\n",
    "                       con = engine,\n",
    "                       if_exists = 'append',\n",
    "                       index = True)"
   ]
  },
  {
   "cell_type": "code",
   "execution_count": 24,
   "metadata": {},
   "outputs": [],
   "source": [
    "new_aqi_2005_df.to_sql(name = 'overall_aqi',\n",
    "                       con = engine,\n",
    "                       if_exists = 'append',\n",
    "                       index = True)"
   ]
  },
  {
   "cell_type": "code",
   "execution_count": 25,
   "metadata": {},
   "outputs": [],
   "source": [
    "new_aqi_2010_df.to_sql(name = 'overall_aqi',\n",
    "                       con = engine,\n",
    "                       if_exists = 'append',\n",
    "                       index = True)"
   ]
  },
  {
   "cell_type": "code",
   "execution_count": 26,
   "metadata": {},
   "outputs": [],
   "source": [
    "new_aqi_2015_df.to_sql(name = 'overall_aqi',\n",
    "                       con = engine,\n",
    "                       if_exists = 'append',\n",
    "                       index = True)"
   ]
  },
  {
   "cell_type": "code",
   "execution_count": 27,
   "metadata": {},
   "outputs": [],
   "source": [
    "new_aqi_2020_df.to_sql(name = 'overall_aqi',\n",
    "                       con = engine,\n",
    "                       if_exists = 'append',\n",
    "                       index = True)"
   ]
  },
  {
   "cell_type": "markdown",
   "metadata": {},
   "source": [
    "### 2"
   ]
  },
  {
   "cell_type": "code",
   "execution_count": null,
   "metadata": {},
   "outputs": [],
   "source": [
    "new_aqi_1995ms_df.to_sql(name = 'aqi_mm', \n",
    "                         con = engine, \n",
    "                         if_exists = 'append', \n",
    "                         index = True)"
   ]
  },
  {
   "cell_type": "code",
   "execution_count": null,
   "metadata": {},
   "outputs": [],
   "source": [
    "new_aqi_2000ms_df.to_sql(name = 'aqi_mm', \n",
    "                         con = engine, \n",
    "                         if_exists = 'append', \n",
    "                         index = True)"
   ]
  },
  {
   "cell_type": "code",
   "execution_count": null,
   "metadata": {},
   "outputs": [],
   "source": [
    "new_aqi_2005ms_df.to_sql(name = 'aqi_mm', \n",
    "                         con = engine, \n",
    "                         if_exists = 'append', \n",
    "                         index = True)"
   ]
  },
  {
   "cell_type": "code",
   "execution_count": null,
   "metadata": {},
   "outputs": [],
   "source": [
    "new_aqi_2010ms_df.to_sql(name = 'aqi_mm', \n",
    "                         con = engine, \n",
    "                         if_exists = 'append', \n",
    "                         index = True)"
   ]
  },
  {
   "cell_type": "code",
   "execution_count": null,
   "metadata": {},
   "outputs": [],
   "source": [
    "new_aqi_2015ms_df.to_sql(name = 'aqi_mm', \n",
    "                         con = engine, \n",
    "                         if_exists = 'append', \n",
    "                         index = True)"
   ]
  },
  {
   "cell_type": "code",
   "execution_count": null,
   "metadata": {},
   "outputs": [],
   "source": [
    "new_aqi_2020ms_df.to_sql(name = 'aqi_mm', \n",
    "                         con = engine, \n",
    "                         if_exists = 'append', \n",
    "                         index = True)"
   ]
  }
 ],
 "metadata": {
  "kernelspec": {
   "display_name": "Python [conda env:PythonData] *",
   "language": "python",
   "name": "conda-env-PythonData-py"
  },
  "language_info": {
   "codemirror_mode": {
    "name": "ipython",
    "version": 3
   },
   "file_extension": ".py",
   "mimetype": "text/x-python",
   "name": "python",
   "nbconvert_exporter": "python",
   "pygments_lexer": "ipython3",
   "version": "3.6.12"
  }
 },
 "nbformat": 4,
 "nbformat_minor": 4
}
